{
 "cells": [
  {
   "cell_type": "code",
   "execution_count": 2,
   "metadata": {},
   "outputs": [],
   "source": [
    "# IMPORTS\n",
    "import matplotlib.pyplot as plt\n",
    "import re\n",
    "import subprocess"
   ]
  },
  {
   "cell_type": "code",
   "execution_count": 3,
   "metadata": {},
   "outputs": [],
   "source": [
    "# SETTINGS\n",
    "host = \"192.168.2.1\"\n",
    "amount = 10\n",
    "timeout_value = 1000\n",
    "\n",
    "# RESULT ARRAY\n",
    "result = []"
   ]
  },
  {
   "cell_type": "code",
   "execution_count": 6,
   "metadata": {},
   "outputs": [],
   "source": [
    "# RUNNING THE CMD AND SPLITTING STR TO LIST\n",
    "cli = subprocess.check_output(\n",
    "    f\"ping -n {amount} {host}\",\n",
    "    errors=\"ignore\"\n",
    ").split(\"\\n\")"
   ]
  },
  {
   "cell_type": "code",
   "execution_count": 7,
   "metadata": {},
   "outputs": [],
   "source": [
    "# GETTING MIN, AVG, MAX FROM THE SECOND TO LAST LINE\n",
    "lastrow = cli[len(cli) - 2]\n",
    "\n",
    "min_value = re.search('Minimum = (.*?)ms,', lastrow).group(1)\n",
    "max_value = re.search('Maximum = (.*?)ms', lastrow).group(1)\n",
    "avg_value = re.search('Mittelwert = (.*?)ms', lastrow).group(1)"
   ]
  },
  {
   "cell_type": "code",
   "execution_count": 8,
   "metadata": {},
   "outputs": [],
   "source": [
    "# ITERATE OVER THE ARRAY AND APPEND VALUES DEPENDING ON CONDITION\n",
    "\n",
    "for row in cli:\n",
    "    ms = re.search('Zeit=(.*)ms', row)        # normal Ping display\n",
    "    sub = re.search('Zeit<(.*)ms', row)       # Ping <1 ms\n",
    "    \n",
    "    if ms:\n",
    "        result.append(int(ms.group(1))) \n",
    "    \n",
    "    if sub:\n",
    "        result.append(1)\n",
    "        \n",
    "    if \"Anforderung\" in row:                  # Timeouts are display with this in german\n",
    "        result.append(timeout_value)\n",
    "        max_value = timeout_value"
   ]
  },
  {
   "cell_type": "code",
   "execution_count": 9,
   "metadata": {},
   "outputs": [
    {
     "data": {
      "image/png": "[encoded data removed]",
      "text/plain": [
       "<Figure size 432x288 with 1 Axes>"
      ]
     },
     "metadata": {
      "needs_background": "light"
     },
     "output_type": "display_data"
    }
   ],
   "source": [
    "# MATPLOTLIB \n",
    "plt.plot(result)\n",
    "plt.style.use(\"ggplot\")\n",
    "\n",
    "plt.title(f\"PING -> {host} -> {amount} times\")\n",
    "text = f\"Avg: {avg_value} \\n Min: {min_value} \\n Max: {max_value}\"\n",
    "props = dict(boxstyle='round', facecolor='wheat', alpha=0.5)\n",
    "plt.text(1,  int(max_value) + 35, text, bbox=props, fontsize=14)\n",
    "\n",
    "plt.xlim(0)\n",
    "plt.xlabel(\"Amount\")\n",
    "\n",
    "plt.ylim(0, int(max_value) + 50)\n",
    "plt.ylabel(\"ms\")\n",
    "\n",
    "plt.show()"
   ]
  }
 ],
 "metadata": {
  "kernelspec": {
   "display_name": "Python 3",
   "language": "python",
   "name": "python3"
  },
  "language_info": {
   "codemirror_mode": {
    "name": "ipython",
    "version": 3
   },
   "file_extension": ".py",
   "mimetype": "text/x-python",
   "name": "python",
   "nbconvert_exporter": "python",
   "pygments_lexer": "ipython3",
   "version": "3.9.0"
  }
 },
 "nbformat": 4,
 "nbformat_minor": 4
}
